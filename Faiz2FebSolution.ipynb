{
 "cells": [
  {
   "cell_type": "markdown",
   "id": "f657279e",
   "metadata": {},
   "source": [
    "# ANS 1"
   ]
  },
  {
   "cell_type": "code",
   "execution_count": 13,
   "id": "ee28d62f",
   "metadata": {},
   "outputs": [],
   "source": [
    "# for loop is used when we know in advance how many times we want to execute the loop.\n",
    "\n",
    "# example of a for loop to prints the first 10 integers"
   ]
  },
  {
   "cell_type": "code",
   "execution_count": 14,
   "id": "942cf47b",
   "metadata": {},
   "outputs": [
    {
     "name": "stdout",
     "output_type": "stream",
     "text": [
      "1\n",
      "2\n",
      "3\n",
      "4\n",
      "5\n",
      "6\n",
      "7\n",
      "8\n",
      "9\n",
      "10\n"
     ]
    }
   ],
   "source": [
    "for i in range(1, 11):\n",
    "    print(i)"
   ]
  },
  {
   "cell_type": "code",
   "execution_count": 15,
   "id": "8a867f21",
   "metadata": {},
   "outputs": [],
   "source": [
    "# while loop is typically used when we don't know in advance how many times we want to execute the loop. \n"
   ]
  },
  {
   "cell_type": "code",
   "execution_count": 16,
   "id": "08b67505",
   "metadata": {},
   "outputs": [
    {
     "name": "stdout",
     "output_type": "stream",
     "text": [
      "Enter a value ('x' to exit): 4\n",
      "You entered:  4\n",
      "Enter a value ('x' to exit): 5\n",
      "You entered:  5\n",
      "Enter a value ('x' to exit): x\n",
      "You entered:  x\n"
     ]
    }
   ],
   "source": [
    "# example of a while loop that reads input from the user until they enter the string \"quit\":\n",
    "user_input = ''\n",
    "while user_input != 'x':\n",
    "    user_input = input(\"Enter a value ('x' to exit): \")\n",
    "    print(\"You entered: \", user_input)\n"
   ]
  },
  {
   "cell_type": "markdown",
   "id": "f3c51a81",
   "metadata": {},
   "source": [
    "# ANS 2"
   ]
  },
  {
   "cell_type": "code",
   "execution_count": 17,
   "id": "939cca81",
   "metadata": {},
   "outputs": [
    {
     "name": "stdout",
     "output_type": "stream",
     "text": [
      "sum =  55\n",
      "product =  3628800\n"
     ]
    }
   ],
   "source": [
    "# Write a python program to print the sum and product of the first 10 natural numbers using for and while loop.\n",
    "\n",
    "sums = 0\n",
    "prod = 1\n",
    "for i in range(1,11):\n",
    "    sums += i\n",
    "    prod *= i\n",
    "print('sum = ',sums)\n",
    "print('product = ',prod)\n"
   ]
  },
  {
   "cell_type": "code",
   "execution_count": 18,
   "id": "d33678cf",
   "metadata": {},
   "outputs": [
    {
     "name": "stdout",
     "output_type": "stream",
     "text": [
      "sum =  55\n",
      "product =  3628800\n"
     ]
    }
   ],
   "source": [
    "sums = 0\n",
    "prod = 1\n",
    "i = 1\n",
    "while(i<11):\n",
    "    sums += i\n",
    "    prod *= i\n",
    "    i = i+1\n",
    "print('sum = ',sums)\n",
    "print('product = ',prod)"
   ]
  },
  {
   "cell_type": "markdown",
   "id": "c6bd6b37",
   "metadata": {},
   "source": [
    "# ANS 3"
   ]
  },
  {
   "cell_type": "code",
   "execution_count": 19,
   "id": "fa2e39d6",
   "metadata": {},
   "outputs": [
    {
     "name": "stdout",
     "output_type": "stream",
     "text": [
      "Enter electricity consumed in units: 310\n",
      "You Bill Amount to pay :  2250\n"
     ]
    }
   ],
   "source": [
    "'''\n",
    "Create a python program to compute the electricity bill for a household.\n",
    "The per-unit charges in rupees are as follows: For the first 100 units, the user will be charged Rs. 4.5 per\n",
    "unit, for the next 100 units, the user will be charged Rs. 6 per unit, and for the next 100 units, the user will\n",
    "be charged Rs. 10 per unit, After 300 units and above the user will be charged Rs. 20 per unit.\n",
    "'''\n",
    "\n",
    "\n",
    "units = int(input(\"Enter electricity consumed in units: \"))\n",
    "bill_amt = 0\n",
    "\n",
    "if(units<100):\n",
    "    bill_amt = units*4.5\n",
    "elif(units>=100 and units<200):\n",
    "    bill_amt = 450 + (units-100)*6\n",
    "elif(units>=200 and units<300):\n",
    "    bill_amt = 1050 + (units-200)*10\n",
    "elif(units<0):\n",
    "    print('invalid input')\n",
    "else:\n",
    "    bill_amt = 2050 + (units-300)*20\n",
    "    \n",
    "print(\"You Bill Amount to pay : \",bill_amt)    "
   ]
  },
  {
   "cell_type": "markdown",
   "id": "4182a85d",
   "metadata": {},
   "source": [
    "# ANS 4"
   ]
  },
  {
   "cell_type": "code",
   "execution_count": 20,
   "id": "c1651d48",
   "metadata": {},
   "outputs": [],
   "source": [
    "'''\n",
    "Q4. Create a list of numbers from 1 to 100. Use for loop and while loop to calculate the cube of each\n",
    "number and if the cube of that number is divisible by 4 or 5 then append that number in a list and print\n",
    "that list.\n",
    "'''\n",
    "\n",
    "l1 = [i for i in range(1,101)]"
   ]
  },
  {
   "cell_type": "code",
   "execution_count": 21,
   "id": "d90ca339",
   "metadata": {},
   "outputs": [],
   "source": [
    "l2 = []\n",
    "for i in l1:\n",
    "    l2.append(i**3)"
   ]
  },
  {
   "cell_type": "code",
   "execution_count": 22,
   "id": "46f2cfb8",
   "metadata": {},
   "outputs": [],
   "source": [
    "l3 = []\n",
    "for j in l2:\n",
    "    if j%4==0 or j%5==0:\n",
    "        l3.append(j)"
   ]
  },
  {
   "cell_type": "code",
   "execution_count": 23,
   "id": "1281d44d",
   "metadata": {},
   "outputs": [
    {
     "name": "stdout",
     "output_type": "stream",
     "text": [
      "[8, 64, 125, 216, 512, 1000, 1728, 2744, 3375, 4096, 5832, 8000, 10648, 13824, 15625, 17576, 21952, 27000, 32768, 39304, 42875, 46656, 54872, 64000, 74088, 85184, 91125, 97336, 110592, 125000, 140608, 157464, 166375, 175616, 195112, 216000, 238328, 262144, 274625, 287496, 314432, 343000, 373248, 405224, 421875, 438976, 474552, 512000, 551368, 592704, 614125, 636056, 681472, 729000, 778688, 830584, 857375, 884736, 941192, 1000000]\n"
     ]
    }
   ],
   "source": [
    "print(list(l3))"
   ]
  },
  {
   "cell_type": "code",
   "execution_count": 27,
   "id": "c3d03d07",
   "metadata": {},
   "outputs": [],
   "source": [
    "list2 = []\n",
    "i = 0\n",
    "while(i<100):\n",
    "    list2.append(l1[i]**3)\n",
    "#     print(l1[i])\n",
    "    i+=1"
   ]
  },
  {
   "cell_type": "code",
   "execution_count": 28,
   "id": "6aca0fbe",
   "metadata": {},
   "outputs": [
    {
     "name": "stdout",
     "output_type": "stream",
     "text": [
      "[1, 8, 27, 64, 125, 216, 343, 512, 729, 1000, 1331, 1728, 2197, 2744, 3375, 4096, 4913, 5832, 6859, 8000, 9261, 10648, 12167, 13824, 15625, 17576, 19683, 21952, 24389, 27000, 29791, 32768, 35937, 39304, 42875, 46656, 50653, 54872, 59319, 64000, 68921, 74088, 79507, 85184, 91125, 97336, 103823, 110592, 117649, 125000, 132651, 140608, 148877, 157464, 166375, 175616, 185193, 195112, 205379, 216000, 226981, 238328, 250047, 262144, 274625, 287496, 300763, 314432, 328509, 343000, 357911, 373248, 389017, 405224, 421875, 438976, 456533, 474552, 493039, 512000, 531441, 551368, 571787, 592704, 614125, 636056, 658503, 681472, 704969, 729000, 753571, 778688, 804357, 830584, 857375, 884736, 912673, 941192, 970299, 1000000]\n"
     ]
    }
   ],
   "source": [
    "print(list(list2))"
   ]
  },
  {
   "cell_type": "code",
   "execution_count": 30,
   "id": "6a0c2fef",
   "metadata": {},
   "outputs": [],
   "source": [
    "list3 = []\n",
    "j = 0\n",
    "while(j<100):\n",
    "    if list2[j]%4==0 or list2[j]%5==0:\n",
    "        list3.append(list2[j])\n",
    "    j += 1"
   ]
  },
  {
   "cell_type": "code",
   "execution_count": 31,
   "id": "f4982cca",
   "metadata": {},
   "outputs": [
    {
     "name": "stdout",
     "output_type": "stream",
     "text": [
      "[8, 64, 125, 216, 512, 1000, 1728, 2744, 3375, 4096, 5832, 8000, 10648, 13824, 15625, 17576, 21952, 27000, 32768, 39304, 42875, 46656, 54872, 64000, 74088, 85184, 91125, 97336, 110592, 125000, 140608, 157464, 166375, 175616, 195112, 216000, 238328, 262144, 274625, 287496, 314432, 343000, 373248, 405224, 421875, 438976, 474552, 512000, 551368, 592704, 614125, 636056, 681472, 729000, 778688, 830584, 857375, 884736, 941192, 1000000]\n"
     ]
    }
   ],
   "source": [
    "print(list(list3))"
   ]
  },
  {
   "cell_type": "markdown",
   "id": "32dd21e1",
   "metadata": {},
   "source": [
    "# ANS 5"
   ]
  },
  {
   "cell_type": "code",
   "execution_count": null,
   "id": "4e05de14",
   "metadata": {},
   "outputs": [],
   "source": [
    "'''\n",
    "Write a program to filter count vowels in the below-given string.\n",
    "string = \"I want to become a data scientist\"\n",
    "'''\n",
    "\n",
    "string = \"I want to become a data scientist\"\n",
    "count = 0\n",
    "for i in string.lower():\n",
    "    if i==\"a\" or i=='e' or i=='i' or i=='o' or i=='u':\n",
    "        count += 1\n",
    "#         print(i)\n",
    "        \n",
    "print(count)        "
   ]
  }
 ],
 "metadata": {
  "kernelspec": {
   "display_name": "Python 3 (ipykernel)",
   "language": "python",
   "name": "python3"
  },
  "language_info": {
   "codemirror_mode": {
    "name": "ipython",
    "version": 3
   },
   "file_extension": ".py",
   "mimetype": "text/x-python",
   "name": "python",
   "nbconvert_exporter": "python",
   "pygments_lexer": "ipython3",
   "version": "3.9.12"
  }
 },
 "nbformat": 4,
 "nbformat_minor": 5
}
